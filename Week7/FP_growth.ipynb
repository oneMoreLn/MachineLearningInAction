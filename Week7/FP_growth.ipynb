{
 "cells": [
  {
   "cell_type": "markdown",
   "metadata": {},
   "source": [
    "# 12.FP growth算法"
   ]
  },
  {
   "cell_type": "markdown",
   "metadata": {},
   "source": [
    "## 12.1.FP树节点的建立"
   ]
  },
  {
   "cell_type": "code",
   "execution_count": 1,
   "metadata": {},
   "outputs": [],
   "source": [
    "class treeNode:\n",
    "    \"\"\"\n",
    "    FP树节点的类\n",
    "    继承：\n",
    "        无\n",
    "    方法：\n",
    "        __init__ -- 初始化类变量\n",
    "        inc -- 给count增加关键词出现的次数\n",
    "        disp -- 以文本方式显示树\n",
    "    \"\"\"\n",
    "    def __init__(self, nameValue, numOccur, parentNode):\n",
    "        \"\"\"\n",
    "        初始化类变量\n",
    "        参数：\n",
    "            self -- 自身，treeNode类实体\n",
    "            nameValue -- 名字，字符串\n",
    "            numOccur -- 出现的频率，整数\n",
    "            parentNode -- 父节点，treeNode类实体\n",
    "        返回：\n",
    "            无\n",
    "        \"\"\"\n",
    "        #各种初始化赋值\n",
    "        self.name = nameValue\n",
    "        self.count = numOccur\n",
    "        #连接关系初始化为无\n",
    "        self.nodeLink = None\n",
    "        #记录父节点\n",
    "        self.parent = parentNode\n",
    "        #初始化子节点为空字典\n",
    "        self.children = {} \n",
    "    \n",
    "    def inc(self, numOccur):\n",
    "        \"\"\"\n",
    "        增加关键词出现的次数\n",
    "        参数：\n",
    "            self -- 自身，treeNode类实体\n",
    "            numOccur -- 关键词出现的次数\n",
    "        返回：\n",
    "            无\n",
    "        \"\"\"\n",
    "        self.count += numOccur\n",
    "        \n",
    "    def disp(self, ind=1):\n",
    "        \"\"\"\n",
    "        以文本的形式显示树\n",
    "        参数：\n",
    "            self -- 自身，treeNode类实体\n",
    "            ind -- 层索引，非负整数，默认为1\n",
    "        返回：\n",
    "            无\n",
    "        \"\"\"\n",
    "        print('  '*ind, self.name, ' ', self.count)\n",
    "        #递归调用dips，显示子树\n",
    "        for child in self.children.values():\n",
    "            child.disp(ind+1)"
   ]
  },
  {
   "cell_type": "markdown",
   "metadata": {},
   "source": [
    "测试"
   ]
  },
  {
   "cell_type": "code",
   "execution_count": 2,
   "metadata": {},
   "outputs": [
    {
     "name": "stdout",
     "output_type": "stream",
     "text": [
      "   pyramid   9\n",
      "     eye   13\n",
      "   pyramid   9\n",
      "     eye   13\n",
      "     phoenix   3\n"
     ]
    }
   ],
   "source": [
    "#建立根节点\n",
    "rootNode = treeNode('pyramid', 9, None)\n",
    "#建立一个子节点\n",
    "rootNode.children['eye'] = treeNode('eye', 13, None)\n",
    "#显示结果\n",
    "rootNode.disp()\n",
    "#再建立一个子节点\n",
    "rootNode.children['phoenix'] = treeNode('phoenix', 3, None)\n",
    "#再来看看效果\n",
    "rootNode.disp()"
   ]
  },
  {
   "cell_type": "markdown",
   "metadata": {},
   "source": [
    "## 12.2.FP树的建立"
   ]
  },
  {
   "cell_type": "code",
   "execution_count": 3,
   "metadata": {},
   "outputs": [],
   "source": [
    "def createTree(dataSet, minSup=1):\n",
    "    \"\"\"\n",
    "    从数据集中建立FP树\n",
    "    参数：\n",
    "        dataSet -- 数据集\n",
    "        minSup -- 最小支持度，整数，默认为1\n",
    "    返回：\n",
    "        retTree -- 构建好的FP树\n",
    "        headerTable -- 头指针\n",
    "    \"\"\"\n",
    "    #初始化头指针为空字典\n",
    "    headerTable = {}\n",
    "    #两次遍历数据集\n",
    "    #第一次计算绝对频率\n",
    "    #对于每个项目\n",
    "    for trans in dataSet:\n",
    "        #对于每个物体\n",
    "        for item in trans:\n",
    "            #统计出现次数，即支持度\n",
    "            headerTable[item] = headerTable.get(item, 0) + dataSet[trans]\n",
    "    #除去不满足最小支持度要求的关键词\n",
    "    for k in list(headerTable.keys()):\n",
    "        if headerTable[k] < minSup: \n",
    "            del(headerTable[k])\n",
    "    #频繁集\n",
    "    freqItemSet = set(headerTable.keys())\n",
    "    #print('freqItemSet: ',freqItemSet)\n",
    "    #如果频繁集为空集，那么直接退出\n",
    "    if len(freqItemSet) == 0: return None, None\n",
    "    #建立链表\n",
    "    for k in headerTable:\n",
    "        headerTable[k] = [headerTable[k], None]\n",
    "    #print('headerTable: ',headerTable)\n",
    "    #建立树\n",
    "    retTree = treeNode('Null Set', 1, None)\n",
    "    #第二次遍历数据集\n",
    "    for tranSet, count in dataSet.items():\n",
    "        #用于排序的频繁集\n",
    "        localD = {}\n",
    "        #填充频繁集\n",
    "        for item in tranSet:\n",
    "            if item in freqItemSet:\n",
    "                localD[item] = headerTable[item][0]\n",
    "        #如果频繁集不为空\n",
    "        if len(localD) > 0:\n",
    "            #排序，降序\n",
    "            orderedItems = [v[0] for v in sorted(localD.items(), key=lambda p: p[1], reverse=True)]\n",
    "            #更新树\n",
    "            updateTree(orderedItems, retTree, headerTable, count)\n",
    "    return retTree, headerTable"
   ]
  },
  {
   "cell_type": "code",
   "execution_count": 4,
   "metadata": {},
   "outputs": [],
   "source": [
    "def updateTree(items, inTree, headerTable, count):\n",
    "    \"\"\"\n",
    "    更新树\n",
    "    参数：\n",
    "        items -- 词条\n",
    "        inTree -- 输入的树\n",
    "        headerTable -- 链表\n",
    "        count -- 数目，整数\n",
    "    返回：\n",
    "        无\n",
    "    \"\"\"\n",
    "    #如果词条在输入树的子节点中\n",
    "    if items[0] in inTree.children:\n",
    "        #增加计数\n",
    "        inTree.children[items[0]].inc(count)\n",
    "    #如果没有，则增添子节点\n",
    "    else:\n",
    "        #新建子节点\n",
    "        inTree.children[items[0]] = treeNode(items[0], count, inTree)\n",
    "        #如果链表只有头节点\n",
    "        if headerTable[items[0]][1] == None:\n",
    "            #加入链表\n",
    "            headerTable[items[0]][1] = inTree.children[items[0]]\n",
    "        #更新链表\n",
    "        else:\n",
    "            updateHeader(headerTable[items[0]][1], inTree.children[items[0]])\n",
    "    #递归调用函数，按照词条频率顺序更新子树\n",
    "    if len(items) > 1:\n",
    "        updateTree(items[1::], inTree.children[items[0]], headerTable, count)"
   ]
  },
  {
   "cell_type": "code",
   "execution_count": 5,
   "metadata": {},
   "outputs": [],
   "source": [
    "def updateHeader(nodeToTest, targetNode):\n",
    "    \"\"\"\n",
    "    更新链表\n",
    "    参数：\n",
    "        nodeToTest -- 待验证的节点\n",
    "        targetNode -- 目标节点\n",
    "    返回：\n",
    "        无\n",
    "    \"\"\"\n",
    "    #找到链表的末端\n",
    "    while (nodeToTest.nodeLink != None):\n",
    "        nodeToTest = nodeToTest.nodeLink\n",
    "    #将节点加入链表\n",
    "    nodeToTest.nodeLink = targetNode"
   ]
  },
  {
   "cell_type": "markdown",
   "metadata": {},
   "source": [
    "## 12.3.简单数据集及数据包装器"
   ]
  },
  {
   "cell_type": "code",
   "execution_count": 6,
   "metadata": {},
   "outputs": [],
   "source": [
    "def loadSimpDat():\n",
    "    \"\"\"\n",
    "    读取简单数据集\n",
    "    参数：\n",
    "        无\n",
    "    返回：\n",
    "        simpDat -- 简单数据集，列表\n",
    "    \"\"\"\n",
    "    simpDat = [['r', 'z', 'h', 'j', 'p'],\n",
    "               ['z', 'y', 'x', 'w', 'v', 'u', 't', 's'],\n",
    "               ['z'],\n",
    "               ['r', 'x', 'n', 'o', 's'],\n",
    "               ['y', 'r', 'x', 'z', 'q', 't', 'p'],\n",
    "               ['y', 'z', 'x', 'e', 'q', 's', 't', 'm']]\n",
    "    return simpDat"
   ]
  },
  {
   "cell_type": "code",
   "execution_count": 7,
   "metadata": {},
   "outputs": [],
   "source": [
    "def createInitSet(dataSet):\n",
    "    \"\"\"\n",
    "    初始化集\n",
    "    参数：\n",
    "        dataSet -- 数据集\n",
    "    返回：\n",
    "        retDict -- 返回包装后的数据集\n",
    "    \"\"\"\n",
    "    #初始化包装的数据集为空字典\n",
    "    retDict = {}\n",
    "    #遍历数据集中的每一项事务，进行包装\n",
    "    for trans in dataSet:\n",
    "        retDict[frozenset(trans)] = 1\n",
    "    return retDict"
   ]
  },
  {
   "cell_type": "markdown",
   "metadata": {},
   "source": [
    "测试"
   ]
  },
  {
   "cell_type": "code",
   "execution_count": 8,
   "metadata": {},
   "outputs": [
    {
     "name": "stdout",
     "output_type": "stream",
     "text": [
      "格式化处理后的数据集：\n",
      "{frozenset({'z', 'j', 'r', 'p', 'h'}): 1, frozenset({'y', 'z', 't', 's', 'w', 'u', 'x', 'v'}): 1, frozenset({'z'}): 1, frozenset({'s', 'n', 'o', 'r', 'x'}): 1, frozenset({'y', 'z', 't', 'q', 'r', 'p', 'x'}): 1, frozenset({'y', 'z', 's', 't', 'q', 'e', 'm', 'x'}): 1}\n",
      "   Null Set   1\n",
      "     z   5\n",
      "       r   1\n",
      "       x   3\n",
      "         y   3\n",
      "           t   2\n",
      "             s   1\n",
      "             r   1\n",
      "           s   1\n",
      "             t   1\n",
      "     x   1\n",
      "       s   1\n",
      "         r   1\n"
     ]
    }
   ],
   "source": [
    "simpDat = loadSimpDat()\n",
    "initSet = createInitSet(simpDat)\n",
    "print(f\"格式化处理后的数据集：\\n{initSet}\")\n",
    "myFPtree, myHeaderTab = createTree(initSet, 3)\n",
    "myFPtree.disp()"
   ]
  },
  {
   "cell_type": "markdown",
   "metadata": {},
   "source": [
    "## 12.4.从一棵 FP树中挖掘频繁项集 "
   ]
  },
  {
   "cell_type": "markdown",
   "metadata": {},
   "source": [
    "### 12.4.1.抽取条件模式基"
   ]
  },
  {
   "cell_type": "code",
   "execution_count": 9,
   "metadata": {},
   "outputs": [],
   "source": [
    "def ascendTree(leafNode, prefixPath):\n",
    "    \"\"\"\n",
    "    由叶节点到根节点的回溯函数\n",
    "    参数：\n",
    "        leafNode -- 叶节点\n",
    "        prefixPath -- 前缀路径\n",
    "    \"\"\"\n",
    "    #如果没有找到根节点\n",
    "    if leafNode.parent != None:\n",
    "        #把该节点添加到前缀路径中\n",
    "        prefixPath.append(leafNode.name)\n",
    "        #递归调用该回溯函数\n",
    "        ascendTree(leafNode.parent, prefixPath)"
   ]
  },
  {
   "cell_type": "code",
   "execution_count": 10,
   "metadata": {},
   "outputs": [],
   "source": [
    "def findPrefixPath(basePat, treeNode): \n",
    "    \"\"\"\n",
    "    寻找前缀路径\n",
    "    参数：\n",
    "        basePat -- 基路径\n",
    "        treeNode -- 树节点\n",
    "    返回：\n",
    "        condPats -- 模式基字典\n",
    "    \"\"\"\n",
    "    #初始化模式基字典为空字典\n",
    "    condPats = {}\n",
    "    #当树节点不为空时\n",
    "    while treeNode != None:\n",
    "        #初始化前缀路径为空列表\n",
    "        prefixPath = []\n",
    "        #找到前缀路径\n",
    "        ascendTree(treeNode, prefixPath)\n",
    "        #当前缀路径长度大于1时\n",
    "        if len(prefixPath) > 1: \n",
    "            #记录前缀路径和对应的词条次数\n",
    "            condPats[frozenset(prefixPath[1:])] = treeNode.count\n",
    "        #沿着链表向后\n",
    "        treeNode = treeNode.nodeLink\n",
    "    return condPats"
   ]
  },
  {
   "cell_type": "markdown",
   "metadata": {},
   "source": [
    "测试"
   ]
  },
  {
   "cell_type": "code",
   "execution_count": 11,
   "metadata": {},
   "outputs": [
    {
     "name": "stdout",
     "output_type": "stream",
     "text": [
      "x的模式基字典为：\n",
      "{frozenset({'z'}): 3}\n",
      "z的模式基字典为：\n",
      "{}\n",
      "r的模式基字典为：\n",
      "{frozenset({'z'}): 1, frozenset({'s', 'x'}): 1, frozenset({'y', 't', 'z', 'x'}): 1}\n"
     ]
    }
   ],
   "source": [
    "print(f\"x的模式基字典为：\\n{findPrefixPath('x', myHeaderTab['x'][1])}\")\n",
    "print(f\"z的模式基字典为：\\n{findPrefixPath('z', myHeaderTab['z'][1])}\")\n",
    "print(f\"r的模式基字典为：\\n{findPrefixPath('r', myHeaderTab['r'][1])}\")"
   ]
  },
  {
   "cell_type": "markdown",
   "metadata": {},
   "source": [
    "### 12.4.2.创建条件FP树"
   ]
  },
  {
   "cell_type": "code",
   "execution_count": 19,
   "metadata": {},
   "outputs": [],
   "source": [
    "def mineTree(inTree, headerTable, minSup, preFix, freqItemList):\n",
    "    \"\"\"\n",
    "    递归查找频繁项集的递归函数\n",
    "    参数：\n",
    "        inTree -- 输入的FP树\n",
    "        headerTable -- 头节点列表\n",
    "        minSup -- 最小支持度\n",
    "        preFix -- 前缀路径\n",
    "        freqItemList -- 频繁项目列表\n",
    "    返回：\n",
    "        无\n",
    "    \"\"\"\n",
    "    #排序头节点列表\n",
    "    bigL = [v[0] for v in sorted(headerTable.items(), key=lambda p: p[1][0])]\n",
    "    #从底部开始\n",
    "    for basePat in bigL:\n",
    "        newFreqSet = preFix.copy()\n",
    "        newFreqSet.add(basePat)\n",
    "        #print('finalFrequent Item: ',newFreqSet)\n",
    "        #添加到频繁项列表中\n",
    "        freqItemList.append(newFreqSet)\n",
    "        #模式基字典\n",
    "        condPattBases = findPrefixPath(basePat, headerTable[basePat][1])\n",
    "        #print('condPattBases :',basePat, condPattBases)\n",
    "        #建立条件FP树\n",
    "        myCondTree, myHead = createTree(condPattBases, minSup)\n",
    "        #print('head from conditional tree: ', myHead)\n",
    "        #如果头节点不为空，挖掘条件FP树\n",
    "        if myHead != None: #3. mine cond. FP-tree\n",
    "            #print('conditional tree for: ',newFreqSet)\n",
    "            #myCondTree.disp(1)\n",
    "            #递归挖掘\n",
    "            mineTree(myCondTree, myHead, minSup, newFreqSet, freqItemList)"
   ]
  },
  {
   "cell_type": "markdown",
   "metadata": {},
   "source": [
    "测试"
   ]
  },
  {
   "cell_type": "code",
   "execution_count": 13,
   "metadata": {},
   "outputs": [
    {
     "name": "stdout",
     "output_type": "stream",
     "text": [
      "conditional tree for:  {'y'}\n",
      "   Null Set   1\n",
      "     z   3\n",
      "       x   3\n",
      "conditional tree for:  {'y', 'x'}\n",
      "   Null Set   1\n",
      "     z   3\n",
      "conditional tree for:  {'t'}\n",
      "   Null Set   1\n",
      "     y   3\n",
      "       z   3\n",
      "         x   3\n",
      "conditional tree for:  {'t', 'z'}\n",
      "   Null Set   1\n",
      "     y   3\n",
      "conditional tree for:  {'t', 'x'}\n",
      "   Null Set   1\n",
      "     y   3\n",
      "       z   3\n",
      "conditional tree for:  {'t', 'z', 'x'}\n",
      "   Null Set   1\n",
      "     y   3\n",
      "conditional tree for:  {'s'}\n",
      "   Null Set   1\n",
      "     x   3\n",
      "conditional tree for:  {'x'}\n",
      "   Null Set   1\n",
      "     z   3\n"
     ]
    }
   ],
   "source": [
    "freqItems = []\n",
    "mineTree(myFPtree, myHeaderTab, 3, set([]), freqItems)"
   ]
  },
  {
   "cell_type": "markdown",
   "metadata": {},
   "source": [
    "## 12.5.示例：从新闻网站点击流中挖掘 "
   ]
  },
  {
   "cell_type": "code",
   "execution_count": 14,
   "metadata": {},
   "outputs": [],
   "source": [
    "parsedDat = [line.split() for line in open('kosarak.dat').readlines()]\n",
    "initSet = createInitSet(parsedDat)\n",
    "myFPtree, myHeaderTab = createTree(initSet, 100000)"
   ]
  },
  {
   "cell_type": "code",
   "execution_count": 20,
   "metadata": {},
   "outputs": [
    {
     "name": "stdout",
     "output_type": "stream",
     "text": [
      "9\n",
      "\n",
      "[{'1'}, {'1', '6'}, {'3'}, {'11', '3'}, {'6', '11', '3'}, {'6', '3'}, {'11'}, {'11', '6'}, {'6'}]\n"
     ]
    }
   ],
   "source": [
    "myFreqList = []\n",
    "mineTree(myFPtree, myHeaderTab, 100000, set([]), myFreqList)\n",
    "print(f\"{len(myFreqList)}\")\n",
    "print(f\"\\n{myFreqList}\")"
   ]
  },
  {
   "cell_type": "code",
   "execution_count": null,
   "metadata": {},
   "outputs": [],
   "source": []
  }
 ],
 "metadata": {
  "kernelspec": {
   "display_name": "Python 3",
   "language": "python",
   "name": "python3"
  },
  "language_info": {
   "codemirror_mode": {
    "name": "ipython",
    "version": 3
   },
   "file_extension": ".py",
   "mimetype": "text/x-python",
   "name": "python",
   "nbconvert_exporter": "python",
   "pygments_lexer": "ipython3",
   "version": "3.7.0"
  }
 },
 "nbformat": 4,
 "nbformat_minor": 2
}
