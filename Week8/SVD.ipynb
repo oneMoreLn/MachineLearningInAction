{
 "cells": [
  {
   "cell_type": "markdown",
   "metadata": {},
   "source": [
    "# 14.SVD分解"
   ]
  },
  {
   "cell_type": "code",
   "execution_count": 15,
   "metadata": {},
   "outputs": [],
   "source": [
    "from numpy import *\n",
    "from numpy import linalg as la"
   ]
  },
  {
   "cell_type": "markdown",
   "metadata": {},
   "source": [
    "## 14.1.利用Python实现 SVD "
   ]
  },
  {
   "cell_type": "code",
   "execution_count": 16,
   "metadata": {},
   "outputs": [
    {
     "name": "stdout",
     "output_type": "stream",
     "text": [
      "U矩阵：\n",
      "[[-0.14142136 -0.98994949]\n",
      " [-0.98994949  0.14142136]]\n",
      "sigma：\n",
      "[1.00000000e+01 2.82797782e-16]\n",
      "VT矩阵：\n",
      "[[-0.70710678 -0.70710678]\n",
      " [ 0.70710678 -0.70710678]]\n"
     ]
    }
   ],
   "source": [
    "U, sigma, VT = la.svd([[1,1],[7,7]])\n",
    "print(f\"U矩阵：\\n{U}\")\n",
    "print(f\"sigma：\\n{sigma}\")\n",
    "print(f\"VT矩阵：\\n{VT}\")"
   ]
  },
  {
   "cell_type": "markdown",
   "metadata": {},
   "source": [
    "重构"
   ]
  },
  {
   "cell_type": "code",
   "execution_count": 4,
   "metadata": {},
   "outputs": [
    {
     "name": "stdout",
     "output_type": "stream",
     "text": [
      "重构矩阵：\n",
      "[[1. 1.]\n",
      " [7. 7.]]\n"
     ]
    }
   ],
   "source": [
    "U = mat(U)\n",
    "VT = mat(VT)\n",
    "recMat = U[:, 0] * sigma[0] * VT[0, :]\n",
    "print(f\"重构矩阵：\\n{recMat}\")"
   ]
  },
  {
   "cell_type": "markdown",
   "metadata": {},
   "source": [
    "## 14.2.读取数据"
   ]
  },
  {
   "cell_type": "code",
   "execution_count": 5,
   "metadata": {},
   "outputs": [],
   "source": [
    "def loadExData():\n",
    "    \"\"\"\n",
    "    读取数据\n",
    "    \"\"\"\n",
    "    return[[0, 0, 0, 2, 2],\n",
    "           [0, 0, 0, 3, 3],\n",
    "           [0, 0, 0, 1, 1],\n",
    "           [1, 1, 1, 0, 0],\n",
    "           [2, 2, 2, 0, 0],\n",
    "           [5, 5, 5, 0, 0],\n",
    "           [1, 1, 1, 0, 0]]"
   ]
  },
  {
   "cell_type": "code",
   "execution_count": 17,
   "metadata": {},
   "outputs": [
    {
     "name": "stdout",
     "output_type": "stream",
     "text": [
      "sigma：\n",
      "[9.64365076e+00 5.29150262e+00 6.49628424e-16 1.43063514e-16\n",
      " 2.79192092e-17]\n"
     ]
    }
   ],
   "source": [
    "Data = loadExData()\n",
    "U, sigma, VT = la.svd(Data)\n",
    "print(f\"sigma：\\n{sigma}\")"
   ]
  },
  {
   "cell_type": "markdown",
   "metadata": {},
   "source": [
    "## 14.3. 基于协同过滤的推荐引擎 "
   ]
  },
  {
   "cell_type": "markdown",
   "metadata": {},
   "source": [
    "### 14.3.1.相似度计算"
   ]
  },
  {
   "cell_type": "code",
   "execution_count": 12,
   "metadata": {},
   "outputs": [],
   "source": [
    "def ecludSim(inA,inB):\n",
    "    \"\"\"\n",
    "    计算欧式距离相似度\n",
    "    欧式距离相似度 = 1 / (1 + 欧式距离)\n",
    "    参数：\n",
    "        inA -- 输入数据A，向量\n",
    "        inB -- 输入数据B，向量\n",
    "    返回：\n",
    "        1.0/(1.0 + la.norm(inA - inB)) -- 欧式距离相似度\n",
    "    \"\"\"\n",
    "    return 1.0/(1.0 + la.norm(inA - inB))\n",
    "\n",
    "def pearsSim(inA,inB):\n",
    "    \"\"\"\n",
    "    计算pearson相似度\n",
    "    pearson相似度 = 0.5 + 0.5 * 相关系数\n",
    "    参数：\n",
    "        inA -- 输入数据A，向量\n",
    "        inB -- 输入数据B，向量\n",
    "    返回：\n",
    "        0.5+0.5*corrcoef(inA, inB, rowvar = 0)[0][1] -- pearson相似度\n",
    "    \"\"\"\n",
    "    if len(inA) < 3 : return 1.0\n",
    "    return 0.5+0.5*corrcoef(inA, inB, rowvar = 0)[0][1]\n",
    "\n",
    "def cosSim(inA,inB):\n",
    "    \"\"\"\n",
    "    计算余弦相似度\n",
    "    余弦相似度 = (A * B) / (||A|| * ||B||)\n",
    "    参数：\n",
    "        inA -- 输入数据A，向量\n",
    "        inB -- 输入数据B，向量\n",
    "    返回：\n",
    "        0.5+0.5*(num/denom) -- 余弦相似度\n",
    "    \"\"\"\n",
    "    #向量内积，分子\n",
    "    num = float(inA.T*inB)\n",
    "    #向量范数乘积，分母\n",
    "    denom = la.norm(inA)*la.norm(inB)\n",
    "    return 0.5+0.5*(num/denom)"
   ]
  },
  {
   "cell_type": "code",
   "execution_count": 18,
   "metadata": {},
   "outputs": [
    {
     "name": "stdout",
     "output_type": "stream",
     "text": [
      "数据中第0和4列之间的欧式距离相似度 = 0.12973190755680383\n",
      "数据中第0和0列之间的欧式距离相似度 = 1.0\n",
      "数据中第0和4列之间的余弦相似度 = 0.5\n",
      "数据中第0和0列之间的余弦相似度 = 1.0\n",
      "数据中第0和4列之间的pearson相似度 = 0.20596538173840329\n",
      "数据中第0和0列之间的pearson相似度 = 1.0\n"
     ]
    }
   ],
   "source": [
    "myMat = mat(loadExData())\n",
    "print(f\"数据中第0和4列之间的欧式距离相似度 = {ecludSim(myMat[:,0], myMat[:,4])}\")\n",
    "print(f\"数据中第0和0列之间的欧式距离相似度 = {ecludSim(myMat[:,0], myMat[:,0])}\")\n",
    "print(f\"数据中第0和4列之间的余弦相似度 = {cosSim(myMat[:,0], myMat[:,4])}\")\n",
    "print(f\"数据中第0和0列之间的余弦相似度 = {cosSim(myMat[:,0], myMat[:,0])}\")\n",
    "print(f\"数据中第0和4列之间的pearson相似度 = {pearsSim(myMat[:,0], myMat[:,4])}\")\n",
    "print(f\"数据中第0和0列之间的pearson相似度 = {pearsSim(myMat[:,0], myMat[:,0])}\")"
   ]
  },
  {
   "cell_type": "markdown",
   "metadata": {},
   "source": [
    "## 14.4.示例：餐馆菜肴推荐引擎 "
   ]
  },
  {
   "cell_type": "markdown",
   "metadata": {},
   "source": [
    "### 14.4.1.基于物品相似度的推荐引擎"
   ]
  },
  {
   "cell_type": "code",
   "execution_count": 19,
   "metadata": {},
   "outputs": [],
   "source": [
    "def standEst(dataMat, user, simMeas, item):\n",
    "    \"\"\"\n",
    "    估计评分的标准方法\n",
    "    参数：\n",
    "        dataMat -- 数据矩阵\n",
    "        user -- 用户\n",
    "        simMeas -- 相似度计算方法\n",
    "        item -- 物件\n",
    "    返回：\n",
    "        估计评分\n",
    "    \"\"\"\n",
    "    #物件数\n",
    "    n = shape(dataMat)[1]\n",
    "    #初始化相似度计数器\n",
    "    simTotal = 0.0; ratSimTotal = 0.0\n",
    "    #对于每一件物体\n",
    "    for j in range(n):\n",
    "        #读取用户评分\n",
    "        userRating = dataMat[user,j]\n",
    "        #如果没由评分则跳过\n",
    "        if userRating == 0: continue\n",
    "        #如果有评分，计算和要估计的物件的重叠\n",
    "        overLap = nonzero(logical_and(dataMat[:,item].A>0, \\\n",
    "                                      dataMat[:,j].A>0))[0]\n",
    "        #如果没有重叠，相似度为0\n",
    "        if len(overLap) == 0: similarity = 0\n",
    "        #计算相似度\n",
    "        else: similarity = simMeas(dataMat[overLap,item], \\\n",
    "                                   dataMat[overLap,j])\n",
    "        #print('the %d and %d similarity is: %f' % (item, j, similarity))\n",
    "        #加到总相似度中去\n",
    "        simTotal += similarity\n",
    "        #总相似度乘以用户评分，得到总相似度估计\n",
    "        ratSimTotal += similarity * userRating\n",
    "    #如果总相似度为0，则返回0\n",
    "    if simTotal == 0: return 0\n",
    "    #返回估计评分\n",
    "    else: return ratSimTotal/simTotal"
   ]
  },
  {
   "cell_type": "code",
   "execution_count": 29,
   "metadata": {},
   "outputs": [],
   "source": [
    "def recommend(dataMat, user, N=3, simMeas=cosSim, estMethod=standEst):\n",
    "    \"\"\"\n",
    "    推荐系统\n",
    "    参数：\n",
    "        dataMat -- 数据矩阵\n",
    "        user -- 用户索引，整数\n",
    "        N -- 最多的推荐结果，整数，默认为3\n",
    "        simMeas -- 计算相似度的方法，默认为余弦相似度\n",
    "        estMethod -- 估计评分的方法，默认为标准方法\n",
    "    返回：\n",
    "        N个推荐物件\n",
    "    \"\"\"\n",
    "    #找到没有评分的物件\n",
    "    unratedItems = nonzero(dataMat[user,:].A==0)[1]\n",
    "    #如果都评分了，就返回一个提示\n",
    "    if len(unratedItems) == 0: return('you rated everything')\n",
    "    #初始化物件分数列表\n",
    "    itemScores = []\n",
    "    #对于每个未评分的物件\n",
    "    for item in unratedItems:\n",
    "        #估计评分\n",
    "        estimatedScore = estMethod(dataMat, user, simMeas, item)\n",
    "        #将评分添加到评分列表中\n",
    "        itemScores.append((item, estimatedScore))\n",
    "    #排序后返回前N个作为推荐物件\n",
    "    return sorted(itemScores, key=lambda jj: jj[1], reverse=True)[:N]"
   ]
  },
  {
   "cell_type": "markdown",
   "metadata": {},
   "source": [
    "测试"
   ]
  },
  {
   "cell_type": "code",
   "execution_count": 24,
   "metadata": {},
   "outputs": [
    {
     "name": "stdout",
     "output_type": "stream",
     "text": [
      "myMat = \n",
      "[[4 4 0 2 2]\n",
      " [4 0 0 3 3]\n",
      " [4 0 0 1 1]\n",
      " [1 1 1 2 0]\n",
      " [2 2 2 0 0]\n",
      " [5 5 5 0 0]\n",
      " [1 1 1 0 0]]\n"
     ]
    }
   ],
   "source": [
    "myMat = mat(loadExData())\n",
    "#对数据稍作修改\n",
    "myMat[0,1] = myMat[0,0] = myMat[1,0] = myMat[2,0] = 4\n",
    "myMat[3,3] = 2\n",
    "\n",
    "print(f\"myMat = \\n{myMat}\")"
   ]
  },
  {
   "cell_type": "code",
   "execution_count": 25,
   "metadata": {},
   "outputs": [
    {
     "data": {
      "text/plain": [
       "[(2, 2.5), (1, 2.0243290220056256)]"
      ]
     },
     "execution_count": 25,
     "metadata": {},
     "output_type": "execute_result"
    }
   ],
   "source": [
    "recommend(myMat, 2)"
   ]
  },
  {
   "cell_type": "code",
   "execution_count": 26,
   "metadata": {},
   "outputs": [
    {
     "data": {
      "text/plain": [
       "[(2, 3.0), (1, 2.8266504712098603)]"
      ]
     },
     "execution_count": 26,
     "metadata": {},
     "output_type": "execute_result"
    }
   ],
   "source": [
    "recommend(myMat, 2, simMeas=ecludSim)"
   ]
  },
  {
   "cell_type": "code",
   "execution_count": 27,
   "metadata": {},
   "outputs": [
    {
     "data": {
      "text/plain": [
       "[(2, 2.5), (1, 2.0)]"
      ]
     },
     "execution_count": 27,
     "metadata": {},
     "output_type": "execute_result"
    }
   ],
   "source": [
    "recommend(myMat, 2, simMeas=pearsSim)"
   ]
  },
  {
   "cell_type": "markdown",
   "metadata": {},
   "source": [
    "### 14.4.2.利用SVD提高推荐的效果"
   ]
  },
  {
   "cell_type": "code",
   "execution_count": 28,
   "metadata": {},
   "outputs": [],
   "source": [
    "def loadExData2():\n",
    "    \"\"\"\n",
    "    读取数据\n",
    "    \"\"\"\n",
    "    return[[0, 0, 0, 0, 0, 4, 0, 0, 0, 0, 5],\n",
    "           [0, 0, 0, 3, 0, 4, 0, 0, 0, 0, 3],\n",
    "           [0, 0, 0, 0, 4, 0, 0, 1, 0, 4, 0],\n",
    "           [3, 3, 4, 0, 0, 0, 0, 2, 2, 0, 0],\n",
    "           [5, 4, 5, 0, 0, 0, 0, 5, 5, 0, 0],\n",
    "           [0, 0, 0, 0, 5, 0, 1, 0, 0, 5, 0],\n",
    "           [4, 3, 4, 0, 0, 0, 0, 5, 5, 0, 1],\n",
    "           [0, 0, 0, 4, 0, 4, 0, 0, 0, 0, 4],\n",
    "           [0, 0, 0, 2, 0, 2, 5, 0, 0, 1, 2],\n",
    "           [0, 0, 0, 0, 5, 0, 0, 0, 0, 4, 0],\n",
    "           [1, 0, 0, 0, 0, 0, 0, 1, 2, 0, 0]]"
   ]
  },
  {
   "cell_type": "code",
   "execution_count": 30,
   "metadata": {},
   "outputs": [],
   "source": [
    "def svdEst(dataMat, user, simMeas, item):\n",
    "    \"\"\"\n",
    "    基于SVD的评分估计\n",
    "    参数：\n",
    "        dataMat -- 数据矩阵\n",
    "        user -- 用户索引，整数\n",
    "        simMeas -- 相似度计算方法\n",
    "        item -- 物件索引，整数\n",
    "    返回：\n",
    "        估计评分\n",
    "    \"\"\"\n",
    "    #物件个数\n",
    "    n = shape(dataMat)[1]\n",
    "    #初始化相似度计数器\n",
    "    simTotal = 0.0; ratSimTotal = 0.0\n",
    "    #SVD分解\n",
    "    U,Sigma,VT = la.svd(dataMat)\n",
    "    #将Sigma的前4项转化为对角矩阵\n",
    "    Sig4 = mat(eye(4)*Sigma[:4])\n",
    "    #重构矩阵\n",
    "    xformedItems = dataMat.T * U[:,:4] * Sig4.I\n",
    "    #对重构矩阵进行评分估计\n",
    "    for j in range(n):\n",
    "        userRating = dataMat[user,j]\n",
    "        if userRating == 0 or j==item: continue\n",
    "        similarity = simMeas(xformedItems[item,:].T,\\\n",
    "                             xformedItems[j,:].T)\n",
    "        #print('the %d and %d similarity is: %f' % (item, j, similarity))\n",
    "        simTotal += similarity\n",
    "        ratSimTotal += similarity * userRating\n",
    "    if simTotal == 0: return 0\n",
    "    else: return ratSimTotal/simTotal"
   ]
  },
  {
   "cell_type": "markdown",
   "metadata": {},
   "source": [
    "测试"
   ]
  },
  {
   "cell_type": "code",
   "execution_count": 32,
   "metadata": {},
   "outputs": [],
   "source": [
    "myMat = mat(loadExData2())"
   ]
  },
  {
   "cell_type": "code",
   "execution_count": 33,
   "metadata": {},
   "outputs": [
    {
     "data": {
      "text/plain": [
       "[(4, 3.344714938469228), (7, 3.3294020724526967), (9, 3.3281008763900686)]"
      ]
     },
     "execution_count": 33,
     "metadata": {},
     "output_type": "execute_result"
    }
   ],
   "source": [
    "recommend(myMat, 1, estMethod=svdEst)"
   ]
  },
  {
   "cell_type": "code",
   "execution_count": 34,
   "metadata": {},
   "outputs": [
    {
     "data": {
      "text/plain": [
       "[(4, 3.346952186702173), (9, 3.33537965732747), (6, 3.3071930278130366)]"
      ]
     },
     "execution_count": 34,
     "metadata": {},
     "output_type": "execute_result"
    }
   ],
   "source": [
    "recommend(myMat, 1, estMethod=svdEst, simMeas=pearsSim)"
   ]
  },
  {
   "cell_type": "markdown",
   "metadata": {},
   "source": [
    "## 14.5示例：基于 SVD的图像压缩"
   ]
  },
  {
   "cell_type": "code",
   "execution_count": 40,
   "metadata": {},
   "outputs": [],
   "source": [
    "def printMat(inMat, thresh=0.8):\n",
    "    \"\"\"\n",
    "    打印矩阵\n",
    "    参数：\n",
    "        inMat -- 输入矩阵\n",
    "        thresh -- 分割阈值，默认为0.8\n",
    "    \"\"\"\n",
    "    #遍历矩阵\n",
    "    for i in range(32):\n",
    "        for k in range(32):\n",
    "            #超过阈值就打印1，反之，打印0\n",
    "            if float(inMat[i,k]) > thresh:\n",
    "                print(1, end=''),\n",
    "            else: print(0, end=''),\n",
    "        print('')"
   ]
  },
  {
   "cell_type": "code",
   "execution_count": 38,
   "metadata": {},
   "outputs": [],
   "source": [
    "def imgCompress(numSV=3, thresh=0.8):\n",
    "    \"\"\"\n",
    "    图像压缩\n",
    "    参数：\n",
    "        numSV -- 奇异值保留个数，整数，默认为3\n",
    "        thresh -- 阈值，浮点数0-1，默认为0.8\n",
    "    \"\"\"\n",
    "    #初始化数据列表\n",
    "    myl = []\n",
    "    #读取数据\n",
    "    for line in open('0_5.txt').readlines():\n",
    "        newRow = []\n",
    "        for i in range(32):\n",
    "            newRow.append(int(line[i]))\n",
    "        myl.append(newRow)\n",
    "    #转化为矩阵\n",
    "    myMat = mat(myl)\n",
    "    print(\"****original matrix******\")\n",
    "    #打印矩阵\n",
    "    printMat(myMat, thresh)\n",
    "    #做SVD分解\n",
    "    U,Sigma,VT = la.svd(myMat)\n",
    "    #初始化对角矩阵为全零\n",
    "    SigRecon = mat(zeros((numSV, numSV)))\n",
    "    #从向量重构对角矩阵\n",
    "    for k in range(numSV):\n",
    "        SigRecon[k,k] = Sigma[k]\n",
    "    #计算重构矩阵\n",
    "    reconMat = U[:,:numSV]*SigRecon*VT[:numSV,:]\n",
    "    print(\"****reconstructed matrix using %d singular values******\" % numSV)\n",
    "    #打印重构后的矩阵\n",
    "    printMat(reconMat, thresh)"
   ]
  },
  {
   "cell_type": "markdown",
   "metadata": {},
   "source": [
    "测试"
   ]
  },
  {
   "cell_type": "code",
   "execution_count": 41,
   "metadata": {},
   "outputs": [
    {
     "name": "stdout",
     "output_type": "stream",
     "text": [
      "****original matrix******\n",
      "00000000000000110000000000000000\n",
      "00000000000011111100000000000000\n",
      "00000000000111111110000000000000\n",
      "00000000001111111111000000000000\n",
      "00000000111111111111100000000000\n",
      "00000001111111111111110000000000\n",
      "00000000111111111111111000000000\n",
      "00000000111111100001111100000000\n",
      "00000001111111000001111100000000\n",
      "00000011111100000000111100000000\n",
      "00000011111100000000111110000000\n",
      "00000011111100000000011110000000\n",
      "00000011111100000000011110000000\n",
      "00000001111110000000001111000000\n",
      "00000011111110000000001111000000\n",
      "00000011111100000000001111000000\n",
      "00000001111100000000001111000000\n",
      "00000011111100000000001111000000\n",
      "00000001111100000000001111000000\n",
      "00000001111100000000011111000000\n",
      "00000000111110000000001111100000\n",
      "00000000111110000000001111100000\n",
      "00000000111110000000001111100000\n",
      "00000000111110000000011111000000\n",
      "00000000111110000000111111000000\n",
      "00000000111111000001111110000000\n",
      "00000000011111111111111110000000\n",
      "00000000001111111111111110000000\n",
      "00000000001111111111111110000000\n",
      "00000000000111111111111000000000\n",
      "00000000000011111111110000000000\n",
      "00000000000000111111000000000000\n",
      "****reconstructed matrix using 2 singular values******\n",
      "00000000000000000000000000000000\n",
      "00000000000000000000000000000000\n",
      "00000000000001111100000000000000\n",
      "00000000000011111111000000000000\n",
      "00000000000111111111100000000000\n",
      "00000000001111111111110000000000\n",
      "00000000001111111111110000000000\n",
      "00000000011110000000001000000000\n",
      "00000000111100000000001100000000\n",
      "00000000111100000000001110000000\n",
      "00000000111100000000001110000000\n",
      "00000000111100000000001110000000\n",
      "00000000111100000000001110000000\n",
      "00000000111100000000001110000000\n",
      "00000000111100000000001110000000\n",
      "00000000111100000000001110000000\n",
      "00000000111100000000001110000000\n",
      "00000000111100000000001110000000\n",
      "00000000111100000000001110000000\n",
      "00000000111100000000001110000000\n",
      "00000000111100000000001110000000\n",
      "00000000111100000000001110000000\n",
      "00000000111100000000001110000000\n",
      "00000000111100000000001110000000\n",
      "00000000111100000000001110000000\n",
      "00000000111100000000001100000000\n",
      "00000000001111111111111000000000\n",
      "00000000001111111111110000000000\n",
      "00000000001111111111110000000000\n",
      "00000000000011111111100000000000\n",
      "00000000000011111111000000000000\n",
      "00000000000000000000000000000000\n"
     ]
    }
   ],
   "source": [
    "imgCompress(2)"
   ]
  },
  {
   "cell_type": "code",
   "execution_count": null,
   "metadata": {},
   "outputs": [],
   "source": []
  }
 ],
 "metadata": {
  "kernelspec": {
   "display_name": "Python 3",
   "language": "python",
   "name": "python3"
  },
  "language_info": {
   "codemirror_mode": {
    "name": "ipython",
    "version": 3
   },
   "file_extension": ".py",
   "mimetype": "text/x-python",
   "name": "python",
   "nbconvert_exporter": "python",
   "pygments_lexer": "ipython3",
   "version": "3.7.0"
  }
 },
 "nbformat": 4,
 "nbformat_minor": 2
}
