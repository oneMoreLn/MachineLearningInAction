{
 "cells": [
  {
   "cell_type": "markdown",
   "metadata": {},
   "source": [
    "# 8.回归"
   ]
  },
  {
   "cell_type": "code",
   "execution_count": 5,
   "metadata": {},
   "outputs": [],
   "source": [
    "from numpy import *\n",
    "import matplotlib.pyplot as plt\n",
    "%matplotlib inline"
   ]
  },
  {
   "cell_type": "markdown",
   "metadata": {},
   "source": [
    "## 8.1.读取数据"
   ]
  },
  {
   "cell_type": "code",
   "execution_count": 2,
   "metadata": {},
   "outputs": [],
   "source": [
    "def loadDataSet(fileName): \n",
    "    \"\"\"\n",
    "    读取数据\n",
    "    参数：\n",
    "        fileName -- 文件名\n",
    "    返回：\n",
    "        dataMat -- 数据矩阵\n",
    "        labelMat -- 标签矩阵\n",
    "    \"\"\"\n",
    "    # 特征数\n",
    "    numFeat = len(open(fileName).readline().split('\\t')) - 1\n",
    "    dataMat = []; labelMat = []\n",
    "    fr = open(fileName)\n",
    "    for line in fr.readlines():\n",
    "        lineArr =[]\n",
    "        # 以制表符分割\n",
    "        curLine = line.strip().split('\\t')\n",
    "        for i in range(numFeat):\n",
    "            lineArr.append(float(curLine[i]))\n",
    "        dataMat.append(lineArr)\n",
    "        labelMat.append(float(curLine[-1]))\n",
    "    return dataMat,labelMat"
   ]
  },
  {
   "cell_type": "code",
   "execution_count": 3,
   "metadata": {},
   "outputs": [],
   "source": [
    "def standRegres(xArr,yArr):\n",
    "    \"\"\"\n",
    "    标准回归函数\n",
    "    参数：\n",
    "        xArr -- x参数\n",
    "        yArr -- y参数\n",
    "    \"\"\"\n",
    "    # 转换为矩阵\n",
    "    xMat = mat(xArr); yMat = mat(yArr).T\n",
    "    xTx = xMat.T*xMat\n",
    "    # 如果行列式为0，则为奇异矩阵\n",
    "    if linalg.det(xTx) == 0.0:\n",
    "        print(\"奇异矩阵，没法求逆\")\n",
    "        return\n",
    "    # 公式法计算\n",
    "    ws = xTx.I * (xMat.T*yMat)\n",
    "    return ws"
   ]
  },
  {
   "cell_type": "markdown",
   "metadata": {},
   "source": [
    "测试"
   ]
  },
  {
   "cell_type": "code",
   "execution_count": 4,
   "metadata": {},
   "outputs": [
    {
     "name": "stdout",
     "output_type": "stream",
     "text": [
      "结果ws = [[3.00774324]\n",
      " [1.69532264]]\n"
     ]
    }
   ],
   "source": [
    "xArr,yArr = loadDataSet(\"ex0.txt\")\n",
    "ws = standRegres(xArr,yArr)\n",
    "print(f\"结果ws = {ws}\")"
   ]
  },
  {
   "cell_type": "markdown",
   "metadata": {},
   "source": [
    "预测并绘图"
   ]
  },
  {
   "cell_type": "code",
   "execution_count": 9,
   "metadata": {},
   "outputs": [
    {
     "data": {
      "text/plain": [
       "<matplotlib.legend.Legend at 0x26c60c81358>"
      ]
     },
     "execution_count": 9,
     "metadata": {},
     "output_type": "execute_result"
    },
    {
     "data": {
      "image/png": "[encoded data removed]",
      "text/plain": [
       "<Figure size 432x288 with 1 Axes>"
      ]
     },
     "metadata": {
      "needs_background": "light"
     },
     "output_type": "display_data"
    }
   ],
   "source": [
    "# 预测\n",
    "xMat = mat(xArr)\n",
    "yMat = mat(yArr)\n",
    "yHat = xMat * ws\n",
    "\n",
    "# 绘图\n",
    "# 数据散点图\n",
    "fig = plt.figure()\n",
    "ax = fig.add_subplot(111)\n",
    "ax.scatter(xMat[:, 1].flatten().A[0], yMat.T[:, 0].flatten().A[0])\n",
    "# 预测回归直线\n",
    "xCopy = xMat.copy()\n",
    "xCopy.sort(0)\n",
    "yHat = xCopy * ws\n",
    "ax.plot(xCopy[:, 1], yHat, color='y')\n",
    "ax.legend((\"prediction\", \"data\"))"
   ]
  },
  {
   "cell_type": "markdown",
   "metadata": {},
   "source": [
    "计算相关性"
   ]
  },
  {
   "cell_type": "code",
   "execution_count": 10,
   "metadata": {},
   "outputs": [
    {
     "data": {
      "text/plain": [
       "array([[1.        , 0.13653777],\n",
       "       [0.13653777, 1.        ]])"
      ]
     },
     "execution_count": 10,
     "metadata": {},
     "output_type": "execute_result"
    }
   ],
   "source": [
    "corrcoef(yHat.T, yMat)"
   ]
  },
  {
   "cell_type": "markdown",
   "metadata": {},
   "source": [
    "相关性并不高，线性模型有待改进"
   ]
  },
  {
   "cell_type": "markdown",
   "metadata": {},
   "source": [
    "## 8.2.局部线性回归（Local Weight Linear Regression）（LWLR）"
   ]
  },
  {
   "cell_type": "code",
   "execution_count": 11,
   "metadata": {},
   "outputs": [],
   "source": [
    "def lwlr(testPoint,xArr,yArr,k=1.0):\n",
    "    \"\"\"\n",
    "    局部线性回归函数\n",
    "    参数：\n",
    "        testPoint -- 测试点\n",
    "        xArr -- x参数\n",
    "        yArr -- y参数\n",
    "        k -- 核参数\n",
    "    \"\"\"\n",
    "    # 处理数据\n",
    "    xMat = mat(xArr); yMat = mat(yArr).T\n",
    "    # 样本个数\n",
    "    m = shape(xMat)[0]\n",
    "    # 初始化权重\n",
    "    weights = mat(eye((m)))\n",
    "    # 对于每个样本\n",
    "    for j in range(m):\n",
    "        # 求差\n",
    "        diffMat = testPoint - xMat[j,:]\n",
    "        # 高斯核计算权重\n",
    "        weights[j,j] = exp(diffMat*diffMat.T/(-2.0*k**2))\n",
    "    # 加权的xTx\n",
    "    xTx = xMat.T * (weights * xMat)\n",
    "    # 判断奇异性\n",
    "    if linalg.det(xTx) == 0.0:\n",
    "        print(\"奇异矩阵，求不了逆\")\n",
    "        return\n",
    "    # 公式计算出预测结果\n",
    "    ws = xTx.I * (xMat.T * (weights * yMat))\n",
    "    return testPoint * ws"
   ]
  },
  {
   "cell_type": "code",
   "execution_count": 12,
   "metadata": {},
   "outputs": [],
   "source": [
    "def lwlrTest(testArr,xArr,yArr,k=1.0):\n",
    "    \"\"\"\n",
    "    对每个点计算局部权重\n",
    "    参数：\n",
    "        testArr -- 测试矩阵\n",
    "        xArr -- x参数\n",
    "        yArr -- y参数\n",
    "        k -- 核参数\n",
    "    \"\"\"\n",
    "    # 样本点个数\n",
    "    m = shape(testArr)[0]\n",
    "    # 初始化预测结果\n",
    "    yHat = zeros(m)\n",
    "    # 对每个点计算局部权重，得到预测值\n",
    "    for i in range(m):\n",
    "        yHat[i] = lwlr(testArr[i],xArr,yArr,k)\n",
    "    return yHat"
   ]
  },
  {
   "cell_type": "markdown",
   "metadata": {},
   "source": [
    "测试"
   ]
  },
  {
   "cell_type": "code",
   "execution_count": 20,
   "metadata": {},
   "outputs": [],
   "source": [
    "yHats = []\n",
    "for k in [1.0, 0.01, 0.003]:\n",
    "    yHat = lwlrTest(xArr,xArr,yArr,k)\n",
    "    yHats.append(yHat)"
   ]
  },
  {
   "cell_type": "markdown",
   "metadata": {},
   "source": [
    "绘图"
   ]
  },
  {
   "cell_type": "code",
   "execution_count": 29,
   "metadata": {},
   "outputs": [
    {
     "data": {
      "image/png": "[encoded data removed]",
      "text/plain": [
       "<Figure size 432x720 with 3 Axes>"
      ]
     },
     "metadata": {
      "needs_background": "light"
     },
     "output_type": "display_data"
    }
   ],
   "source": [
    "# 对数据点排序\n",
    "xMat = mat(xArr)\n",
    "srtInd = xMat[:, 1].argsort(0)\n",
    "xSort = xMat[srtInd][:, 0, :]\n",
    "\n",
    "# 绘图\n",
    "fig = plt.figure(num=None, figsize=(6, 10))\n",
    "for i, k in enumerate([1.0, 0.01, 0.003]):\n",
    "    ax = fig.add_subplot(3, 1, i+1)\n",
    "    ax.plot(xSort[:, 1], yHats[i][srtInd], c='y')\n",
    "    ax.scatter(xMat[:, 1].flatten().A[0], mat(yArr).T.flatten().A[0], s=2, c='b')\n",
    "    ax.legend((\"prediction\", \"data\"))\n",
    "    plt.title(f\"k = {k}\")"
   ]
  },
  {
   "cell_type": "markdown",
   "metadata": {},
   "source": [
    "## 8.3.实例：预测鲍鱼的年龄"
   ]
  },
  {
   "cell_type": "code",
   "execution_count": 30,
   "metadata": {},
   "outputs": [],
   "source": [
    "def rssError(yArr,yHatArr):\n",
    "    \"\"\"\n",
    "    计算回归误差\n",
    "    参数：\n",
    "        yArr -- y数据\n",
    "        yHatArr -- y预测\n",
    "    返回：\n",
    "        L2loss\n",
    "    \"\"\"\n",
    "    return ((yArr-yHatArr)**2).sum()"
   ]
  },
  {
   "cell_type": "markdown",
   "metadata": {},
   "source": [
    "### 8.3.1.读取数据"
   ]
  },
  {
   "cell_type": "code",
   "execution_count": 31,
   "metadata": {},
   "outputs": [],
   "source": [
    "abX, abY = loadDataSet(\"abalone.txt\")"
   ]
  },
  {
   "cell_type": "markdown",
   "metadata": {},
   "source": [
    "### 8.3.2.预测，并计算误差"
   ]
  },
  {
   "cell_type": "code",
   "execution_count": 32,
   "metadata": {},
   "outputs": [
    {
     "name": "stdout",
     "output_type": "stream",
     "text": [
      "error01 = 56.78420911837208\n",
      "error1 = 429.89056187030394\n",
      "error10 = 549.1181708826065\n"
     ]
    }
   ],
   "source": [
    "# 得到预测值\n",
    "yHat01 = lwlrTest(abX[0:99], abX[0:99], abY[0:99], 0.1)\n",
    "yHat1 = lwlrTest(abX[0:99], abX[0:99], abY[0:99], 1)\n",
    "yHat10 = lwlrTest(abX[0:99], abX[0:99], abY[0:99], 10)\n",
    "\n",
    "# 计算预测误差\n",
    "error01 = rssError(abY[0:99], yHat01.T)\n",
    "error1 = rssError(abY[0:99], yHat1.T)\n",
    "error10 = rssError(abY[0:99], yHat10.T)\n",
    "\n",
    "# 打印结果\n",
    "print(f\"error01 = {error01}\\nerror1 = {error1}\\nerror10 = {error10}\")"
   ]
  },
  {
   "cell_type": "markdown",
   "metadata": {},
   "source": [
    "k = 0.1的结果最好，但是不是一成不变的\n",
    "\n",
    "看看它们在新数据集上的表现"
   ]
  },
  {
   "cell_type": "code",
   "execution_count": 33,
   "metadata": {},
   "outputs": [
    {
     "name": "stdout",
     "output_type": "stream",
     "text": [
      "error01 = 3580.5304330698336\n",
      "error1 = 2568.743170627686\n",
      "error10 = 2648.9694571854866\n"
     ]
    }
   ],
   "source": [
    "# 得到预测值\n",
    "yHat01 = lwlrTest(abX[100:199], abX[100:199], abY[100:199], 0.1)\n",
    "yHat1 = lwlrTest(abX[100:199], abX[100:199], abY[100:199], 1)\n",
    "yHat10 = lwlrTest(abX[100:199], abX[100:199], abY[100:199], 10)\n",
    "\n",
    "# 计算预测误差\n",
    "error01 = rssError(abY[0:99], yHat01.T)\n",
    "error1 = rssError(abY[0:99], yHat1.T)\n",
    "error10 = rssError(abY[0:99], yHat10.T)\n",
    "\n",
    "# 打印结果\n",
    "print(f\"error01 = {error01}\\nerror1 = {error1}\\nerror10 = {error10}\")"
   ]
  },
  {
   "cell_type": "markdown",
   "metadata": {},
   "source": [
    "## 8.4.岭回归"
   ]
  },
  {
   "cell_type": "code",
   "execution_count": 34,
   "metadata": {},
   "outputs": [],
   "source": [
    "def ridgeRegres(xMat,yMat,lam=0.2):\n",
    "    \"\"\"\n",
    "    岭回归算法\n",
    "    参数：\n",
    "        xMat -- x数据\n",
    "        yMat -- y数据\n",
    "        lam -- 岭回归参数\n",
    "    返回：\n",
    "        ws -- 预测值\n",
    "    \"\"\"\n",
    "    xTx = xMat.T*xMat\n",
    "    # 加上“岭”\n",
    "    denom = xTx + eye(shape(xMat)[1])*lam\n",
    "    # 判断奇异性，避免lambda为0引发错误\n",
    "    if linalg.det(denom) == 0.0:\n",
    "        print(\"奇异矩阵，没法求逆\")\n",
    "        return\n",
    "    ws = denom.I * (xMat.T*yMat)\n",
    "    return ws"
   ]
  },
  {
   "cell_type": "code",
   "execution_count": 35,
   "metadata": {},
   "outputs": [],
   "source": [
    "def ridgeTest(xArr,yArr):\n",
    "    \"\"\"\n",
    "    岭回归\n",
    "    参数：\n",
    "        xArr -- x数据\n",
    "        yArr -- y数据\n",
    "    返回：\n",
    "        wMat -- 预测\n",
    "    \"\"\"\n",
    "    xMat = mat(xArr); yMat=mat(yArr).T\n",
    "    yMean = mean(yMat,0)\n",
    "    # 去均值化\n",
    "    yMat = yMat - yMean\n",
    "    # 标准化x\n",
    "    xMeans = mean(xMat,0)\n",
    "    xVar = var(xMat,0)\n",
    "    xMat = (xMat - xMeans)/xVar\n",
    "    # 预测点数\n",
    "    numTestPts = 30\n",
    "    # 初始化预测结果矩阵\n",
    "    wMat = zeros((numTestPts,shape(xMat)[1]))\n",
    "    # 逐一预测\n",
    "    for i in range(numTestPts):\n",
    "        # lambda的值指数变化\n",
    "        ws = ridgeRegres(xMat,yMat,exp(i-10))\n",
    "        wMat[i,:]=ws.T\n",
    "    return wMat"
   ]
  },
  {
   "cell_type": "markdown",
   "metadata": {},
   "source": [
    "测试"
   ]
  },
  {
   "cell_type": "code",
   "execution_count": 36,
   "metadata": {},
   "outputs": [
    {
     "data": {
      "text/plain": [
       "[<matplotlib.lines.Line2D at 0x26c6399eba8>,\n",
       " <matplotlib.lines.Line2D at 0x26c6399e438>,\n",
       " <matplotlib.lines.Line2D at 0x26c6399e7b8>,\n",
       " <matplotlib.lines.Line2D at 0x26c6399e198>,\n",
       " <matplotlib.lines.Line2D at 0x26c6399e048>,\n",
       " <matplotlib.lines.Line2D at 0x26c6399ef60>,\n",
       " <matplotlib.lines.Line2D at 0x26c6399ed68>,\n",
       " <matplotlib.lines.Line2D at 0x26c639b9e10>]"
      ]
     },
     "execution_count": 36,
     "metadata": {},
     "output_type": "execute_result"
    },
    {
     "data": {
      "image/png": "[encoded data removed]",
      "text/plain": [
       "<Figure size 432x288 with 1 Axes>"
      ]
     },
     "metadata": {
      "needs_background": "light"
     },
     "output_type": "display_data"
    }
   ],
   "source": [
    "# 得到30个点的预测结果\n",
    "ridgeweights = ridgeTest(abX,abY)\n",
    "\n",
    "# 绘图\n",
    "fig = plt.figure()\n",
    "ax = fig.add_subplot(111)\n",
    "ax.plot(ridgeweights)"
   ]
  },
  {
   "cell_type": "markdown",
   "metadata": {},
   "source": [
    "## 8.5.前向逐步回归"
   ]
  },
  {
   "cell_type": "code",
   "execution_count": 39,
   "metadata": {},
   "outputs": [],
   "source": [
    "def regularize(xMat):\n",
    "    \"\"\"\n",
    "    按行标准化\n",
    "    参数：\n",
    "        xMat -- x数据矩阵\n",
    "    返回：\n",
    "        inMat -- 标准化结果\n",
    "    \"\"\"\n",
    "    inMat = xMat.copy()\n",
    "    inMeans = mean(inMat,0)\n",
    "    inVar = var(inMat,0)\n",
    "    inMat = (inMat - inMeans)/inVar\n",
    "    return inMat"
   ]
  },
  {
   "cell_type": "code",
   "execution_count": 41,
   "metadata": {},
   "outputs": [],
   "source": [
    "def stageWise(xArr,yArr,eps=0.01,numIt=100):\n",
    "    \"\"\"\n",
    "    逐步前向回归\n",
    "    参数：\n",
    "        xArr -- x数据\n",
    "        yArr -- y数据\n",
    "        eps -- 每次迭代需要调整的步长\n",
    "        numIt -- 迭代次数\n",
    "    返回：\n",
    "        returnMat -- 返回矩阵\n",
    "    \"\"\"\n",
    "    xMat = mat(xArr); yMat=mat(yArr).T\n",
    "    # 去均值\n",
    "    yMean = mean(yMat,0)\n",
    "    yMat = yMat - yMean\n",
    "    # 正则化\n",
    "    xMat = regularize(xMat)\n",
    "    # x矩阵的维度\n",
    "    m,n=shape(xMat)\n",
    "    # 初始化返回矩阵\n",
    "    returnMat = zeros((numIt,n))\n",
    "    ws = zeros((n,1)); wsTest = ws.copy(); wsMax = ws.copy()\n",
    "    for i in range(numIt):\n",
    "        #print(ws.T)\n",
    "        lowestError = inf; \n",
    "        for j in range(n):\n",
    "            for sign in [-1,1]:\n",
    "                # 调整步长\n",
    "                wsTest = ws.copy()\n",
    "                wsTest[j] += eps*sign\n",
    "                yTest = xMat*wsTest\n",
    "                rssE = rssError(yMat.A,yTest.A)\n",
    "                # 贪婪算法\n",
    "                if rssE < lowestError:\n",
    "                    lowestError = rssE\n",
    "                    wsMax = wsTest\n",
    "        ws = wsMax.copy()\n",
    "        returnMat[i,:]=ws.T\n",
    "    return returnMat"
   ]
  },
  {
   "cell_type": "markdown",
   "metadata": {},
   "source": [
    "测试"
   ]
  },
  {
   "cell_type": "code",
   "execution_count": 42,
   "metadata": {},
   "outputs": [
    {
     "data": {
      "text/plain": [
       "array([[ 0.  ,  0.  ,  0.  , ...,  0.  ,  0.  ,  0.  ],\n",
       "       [ 0.  ,  0.  ,  0.  , ...,  0.  ,  0.  ,  0.  ],\n",
       "       [ 0.  ,  0.  ,  0.  , ...,  0.  ,  0.  ,  0.  ],\n",
       "       ...,\n",
       "       [ 0.05,  0.  ,  0.09, ..., -0.64,  0.  ,  0.36],\n",
       "       [ 0.04,  0.  ,  0.09, ..., -0.64,  0.  ,  0.36],\n",
       "       [ 0.05,  0.  ,  0.09, ..., -0.64,  0.  ,  0.36]])"
      ]
     },
     "execution_count": 42,
     "metadata": {},
     "output_type": "execute_result"
    }
   ],
   "source": [
    "stageWise(abX, abY, 0.01, 200)"
   ]
  },
  {
   "cell_type": "markdown",
   "metadata": {},
   "source": [
    "用更小的步长测试"
   ]
  },
  {
   "cell_type": "code",
   "execution_count": 44,
   "metadata": {},
   "outputs": [
    {
     "data": {
      "text/plain": [
       "array([[ 0.   ,  0.   ,  0.   , ...,  0.   ,  0.   ,  0.   ],\n",
       "       [ 0.   ,  0.   ,  0.   , ...,  0.   ,  0.   ,  0.   ],\n",
       "       [ 0.   ,  0.   ,  0.   , ...,  0.   ,  0.   ,  0.   ],\n",
       "       ...,\n",
       "       [ 0.043, -0.011,  0.12 , ..., -0.963, -0.105,  0.187],\n",
       "       [ 0.044, -0.011,  0.12 , ..., -0.963, -0.105,  0.187],\n",
       "       [ 0.043, -0.011,  0.12 , ..., -0.963, -0.105,  0.187]])"
      ]
     },
     "execution_count": 44,
     "metadata": {},
     "output_type": "execute_result"
    }
   ],
   "source": [
    "stageWise(abX, abY, 0.001, 5000)"
   ]
  },
  {
   "cell_type": "code",
   "execution_count": null,
   "metadata": {},
   "outputs": [],
   "source": []
  }
 ],
 "metadata": {
  "kernelspec": {
   "display_name": "Python 3",
   "language": "python",
   "name": "python3"
  },
  "language_info": {
   "codemirror_mode": {
    "name": "ipython",
    "version": 3
   },
   "file_extension": ".py",
   "mimetype": "text/x-python",
   "name": "python",
   "nbconvert_exporter": "python",
   "pygments_lexer": "ipython3",
   "version": "3.7.0"
  }
 },
 "nbformat": 4,
 "nbformat_minor": 2
}
