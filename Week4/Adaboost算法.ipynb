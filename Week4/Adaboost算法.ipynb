{
 "cells": [
  {
   "cell_type": "markdown",
   "metadata": {},
   "source": [
    "# 7.Adaboost算法"
   ]
  },
  {
   "cell_type": "code",
   "execution_count": 2,
   "metadata": {},
   "outputs": [],
   "source": [
    "from numpy import *"
   ]
  },
  {
   "cell_type": "markdown",
   "metadata": {},
   "source": [
    "## 7.1.单层决策树\n",
    "### 7.1.1.读取数据"
   ]
  },
  {
   "cell_type": "code",
   "execution_count": 3,
   "metadata": {},
   "outputs": [],
   "source": [
    "def loadSimpData():\n",
    "    \"\"\"\n",
    "    读取简单数据\n",
    "    参数：\n",
    "        无\n",
    "    返回：\n",
    "        dataMat -- 数据矩阵\n",
    "        classLabels -- 标签列表\n",
    "    \"\"\"\n",
    "    #简单地生成数据和标签\n",
    "    datMat = matrix([[ 1. ,  2.1],\n",
    "        [ 2. ,  1.1],\n",
    "        [ 1.3,  1. ],\n",
    "        [ 1. ,  1. ],\n",
    "        [ 2. ,  1. ]])\n",
    "    classLabels = [1.0, 1.0, -1.0, -1.0, 1.0]\n",
    "    return datMat,classLabels"
   ]
  },
  {
   "cell_type": "markdown",
   "metadata": {},
   "source": [
    "### 7.1.2.建立单层决策树（树桩）"
   ]
  },
  {
   "cell_type": "code",
   "execution_count": 4,
   "metadata": {},
   "outputs": [],
   "source": [
    "def stumpClassify(dataMatrix,dimen,threshVal,threshIneq):\n",
    "    \"\"\"\n",
    "    分类数据\n",
    "    参数：\n",
    "        dataMatrix -- 数据矩阵\n",
    "        dimen -- 维度\n",
    "        threshVal -- 阈值\n",
    "        threshIneq -- 符号，‘lt’小于，‘gt’大于\n",
    "    返回：\n",
    "        retArray -- 返回矩阵\n",
    "    \"\"\"\n",
    "    #新建矩阵，初始化为1\n",
    "    retArray = ones((shape(dataMatrix)[0],1))\n",
    "    #判断符号\n",
    "    if threshIneq == 'lt':\n",
    "        retArray[dataMatrix[:,dimen] <= threshVal] = -1.0\n",
    "    else:\n",
    "        retArray[dataMatrix[:,dimen] > threshVal] = -1.0\n",
    "    return retArray\n",
    "    \n",
    "\n",
    "def buildStump(dataArr,classLabels,D):\n",
    "    \"\"\"\n",
    "    建立单层决策树\n",
    "    参数：\n",
    "        dataArr -- 数据矩阵\n",
    "        classLabels -- 类标签\n",
    "        D -- 权重向量\n",
    "    返回：\n",
    "        bestStump -- 最佳树桩\n",
    "        minError -- 最小误差\n",
    "        bestClassEst -- 最佳分类估计\n",
    "    \"\"\"\n",
    "    #将数据和标签转化为矩阵\n",
    "    dataMatrix = mat(dataArr); labelMat = mat(classLabels).T\n",
    "    #矩阵维度\n",
    "    m,n = shape(dataMatrix)\n",
    "    #设置和初始化一些量\n",
    "    numSteps = 10.0; bestStump = {}; bestClasEst = mat(zeros((m,1)))\n",
    "    #初始最小误差为无穷大\n",
    "    minError = inf\n",
    "    #遍历所有特征\n",
    "    for i in range(n):\n",
    "        #获得该特征值的范围\n",
    "        rangeMin = dataMatrix[:,i].min(); rangeMax = dataMatrix[:,i].max();\n",
    "        #步长\n",
    "        stepSize = (rangeMax-rangeMin)/numSteps\n",
    "        #遍历所有范围步长\n",
    "        for j in range(-1,int(numSteps)+1):\n",
    "            #对于小于和大于两种情况\n",
    "            for inequal in ['lt', 'gt']: \n",
    "                #阈值\n",
    "                threshVal = (rangeMin + float(j) * stepSize)\n",
    "                #分类预测\n",
    "                predictedVals = stumpClassify(dataMatrix,i,threshVal,inequal)\n",
    "                #错误率矩阵初始化为全1\n",
    "                errArr = mat(ones((m,1)))\n",
    "                #将分类正确的对应错误标记设置为0，正确\n",
    "                errArr[predictedVals == labelMat] = 0\n",
    "                #加权后的总错误率\n",
    "                weightedError = D.T*errArr\n",
    "                #print(\"split: dim %d, thresh %.2f, thresh ineqal: %s, the weighted error is %.3f\" % (i, threshVal, inequal, weightedError))\n",
    "                #记录最好结果相关信息\n",
    "                if weightedError < minError:\n",
    "                    minError = weightedError\n",
    "                    bestClasEst = predictedVals.copy()\n",
    "                    bestStump['dim'] = i\n",
    "                    bestStump['thresh'] = threshVal\n",
    "                    bestStump['ineq'] = inequal\n",
    "    return bestStump,minError,bestClasEst"
   ]
  },
  {
   "cell_type": "markdown",
   "metadata": {},
   "source": [
    "测试一下"
   ]
  },
  {
   "cell_type": "code",
   "execution_count": 5,
   "metadata": {},
   "outputs": [],
   "source": [
    "D = mat(ones((5, 1)) / 5)\n",
    "datMat,classLabels = loadSimpData()"
   ]
  },
  {
   "cell_type": "code",
   "execution_count": 6,
   "metadata": {},
   "outputs": [
    {
     "data": {
      "text/plain": [
       "({'dim': 0, 'thresh': 1.3, 'ineq': 'lt'}, matrix([[0.2]]), array([[-1.],\n",
       "        [ 1.],\n",
       "        [-1.],\n",
       "        [-1.],\n",
       "        [ 1.]]))"
      ]
     },
     "execution_count": 6,
     "metadata": {},
     "output_type": "execute_result"
    }
   ],
   "source": [
    "buildStump(datMat,classLabels,D)"
   ]
  },
  {
   "cell_type": "markdown",
   "metadata": {},
   "source": [
    "## 7.2.完整Adaboost算法实现"
   ]
  },
  {
   "cell_type": "code",
   "execution_count": 7,
   "metadata": {},
   "outputs": [],
   "source": [
    "def adaBoostTrainDS(dataArr,classLabels,numIt=40):\n",
    "    \"\"\"\n",
    "    Adaboost的训练函数\n",
    "    参数：\n",
    "        dataArr -- 数据矩阵\n",
    "        classLabels -- 分类标签\n",
    "        numIt -- 迭代次数\n",
    "    返回：\n",
    "        weakClassArr -- 弱分类器\n",
    "        aggClassEst -- 类估计\n",
    "    \"\"\"\n",
    "    weakClassArr = []\n",
    "    m = shape(dataArr)[0]\n",
    "    #相同的初始权重\n",
    "    D = mat(ones((m,1))/m)\n",
    "    #初始估计为全0\n",
    "    aggClassEst = mat(zeros((m,1)))\n",
    "    #在最大迭代次数限制下\n",
    "    for i in range(numIt):\n",
    "        #建立弱分类器，树桩\n",
    "        bestStump,error,classEst = buildStump(dataArr,classLabels,D)\n",
    "        #print(\"D:\",D.T)\n",
    "        #分类器权重，除法时保证不除0\n",
    "        alpha = float(0.5*log((1.0-error)/max(error,1e-16)))\n",
    "        bestStump['alpha'] = alpha  \n",
    "        #保存树桩\n",
    "        weakClassArr.append(bestStump)\n",
    "        #print(\"classEst: \",classEst.T)\n",
    "        #计算指数项\n",
    "        expon = multiply(-1*alpha*mat(classLabels).T,classEst)\n",
    "        #更新D\n",
    "        D = multiply(D,exp(expon))\n",
    "        D = D/D.sum()\n",
    "        #结合弱分类器\n",
    "        aggClassEst += alpha*classEst\n",
    "        #print(\"aggClassEst: \",aggClassEst.T)\n",
    "        #误差\n",
    "        aggErrors = multiply(sign(aggClassEst) != mat(classLabels).T,ones((m,1)))\n",
    "        errorRate = aggErrors.sum()/m\n",
    "        print(\"total error: \",errorRate)\n",
    "        #如果误差为0，提前结束\n",
    "        if errorRate == 0.0: break\n",
    "    return weakClassArr,aggClassEst"
   ]
  },
  {
   "cell_type": "markdown",
   "metadata": {},
   "source": [
    "测试一下"
   ]
  },
  {
   "cell_type": "code",
   "execution_count": 8,
   "metadata": {},
   "outputs": [
    {
     "name": "stdout",
     "output_type": "stream",
     "text": [
      "total error:  0.2\n",
      "total error:  0.2\n",
      "total error:  0.0\n"
     ]
    }
   ],
   "source": [
    "classifierArray,_ = adaBoostTrainDS(datMat,classLabels,numIt=40)"
   ]
  },
  {
   "cell_type": "markdown",
   "metadata": {},
   "source": [
    "## 7.3.测试算法：基于AdaBoost 的分类"
   ]
  },
  {
   "cell_type": "code",
   "execution_count": 9,
   "metadata": {},
   "outputs": [],
   "source": [
    "def adaClassify(datToClass,classifierArr):\n",
    "    \"\"\"\n",
    "    分类函数\n",
    "    参数：\n",
    "        datToClass -- 数据\n",
    "        classifierArr -- 分类器\n",
    "    返回：\n",
    "        aggClassEst -- 预测值\n",
    "    \"\"\"\n",
    "    dataMatrix = mat(datToClass)\n",
    "    m = shape(dataMatrix)[0]\n",
    "    aggClassEst = mat(zeros((m,1)))\n",
    "    #带权重的分类结果\n",
    "    for i in range(len(classifierArr)):\n",
    "        classEst = stumpClassify(dataMatrix,classifierArr[i]['dim'],\\\n",
    "                                 classifierArr[i]['thresh'],\\\n",
    "                                 classifierArr[i]['ineq'])#call stump classify\n",
    "        aggClassEst += classifierArr[i]['alpha']*classEst\n",
    "        #print(aggClassEst)\n",
    "    return sign(aggClassEst)"
   ]
  },
  {
   "cell_type": "code",
   "execution_count": 21,
   "metadata": {},
   "outputs": [],
   "source": [
    "def plotROC(predStrengths, classLabels):\n",
    "    \"\"\"\n",
    "    绘制ROC图\n",
    "    参数：\n",
    "        predStrengths -- 预测\n",
    "        classLabels -- 类\n",
    "    \"\"\"\n",
    "    import matplotlib.pyplot as plt\n",
    "    #cursor\n",
    "    cur = (1.0,1.0)\n",
    "    #求和器\n",
    "    ySum = 0.0\n",
    "    numPosClas = sum(array(classLabels)==1.0)\n",
    "    yStep = 1/float(numPosClas); xStep = 1/float(len(classLabels)-numPosClas)\n",
    "    #排序\n",
    "    sortedIndicies = predStrengths.argsort()\n",
    "    fig = plt.figure()\n",
    "    fig.clf()\n",
    "    ax = plt.subplot(111)\n",
    "    #每个点画一个线段\n",
    "    for index in sortedIndicies.tolist()[0]:\n",
    "        if classLabels[index] == 1.0:\n",
    "            delX = 0; delY = yStep;\n",
    "        else:\n",
    "            delX = xStep; delY = 0;\n",
    "            ySum += cur[1]\n",
    "        ax.plot([cur[0],cur[0]-delX],[cur[1],cur[1]-delY], c='b')\n",
    "        cur = (cur[0]-delX,cur[1]-delY)\n",
    "    ax.plot([0,1],[0,1],'b--')\n",
    "    plt.xlabel('False positive rate'); plt.ylabel('True positive rate')\n",
    "    plt.title('ROC curve for AdaBoost horse colic detection system')\n",
    "    ax.axis([0,1,0,1])\n",
    "    #plt.show()\n",
    "    print(\"the Area Under the Curve is: \",ySum*xStep)"
   ]
  },
  {
   "cell_type": "code",
   "execution_count": 11,
   "metadata": {},
   "outputs": [
    {
     "name": "stdout",
     "output_type": "stream",
     "text": [
      "[{'dim': 0, 'thresh': 1.3, 'ineq': 'lt', 'alpha': 0.6931471805599453}, {'dim': 1, 'thresh': 1.0, 'ineq': 'lt', 'alpha': 0.9729550745276565}, {'dim': 0, 'thresh': 0.9, 'ineq': 'lt', 'alpha': 0.8958797346140273}]\n"
     ]
    }
   ],
   "source": [
    "print(classifierArray)"
   ]
  },
  {
   "cell_type": "code",
   "execution_count": 12,
   "metadata": {},
   "outputs": [
    {
     "data": {
      "text/plain": [
       "matrix([[-1.]])"
      ]
     },
     "execution_count": 12,
     "metadata": {},
     "output_type": "execute_result"
    }
   ],
   "source": [
    "adaClassify([0, 0], classifierArray)"
   ]
  },
  {
   "cell_type": "markdown",
   "metadata": {},
   "source": [
    "## 7.4.在一个难数据集上应用AdaBoost\n",
    "### 7.4.1.读取数据"
   ]
  },
  {
   "cell_type": "code",
   "execution_count": 13,
   "metadata": {},
   "outputs": [],
   "source": [
    "def loadDataSet(fileName):\n",
    "    \"\"\"\n",
    "    读取数据集\n",
    "    参数：\n",
    "        fileName -- 文件名\n",
    "    返回：\n",
    "        dataMat -- 数据矩阵\n",
    "        labelMat -- 标签矩阵\n",
    "    \"\"\"\n",
    "    #读取特征数，以制表符分割\n",
    "    numFeat = len(open(fileName).readline().split('\\t'))\n",
    "    #新建矩阵\n",
    "    dataMat = []; labelMat = []\n",
    "    #打开文件\n",
    "    fr = open(fileName)\n",
    "    #按行读取\n",
    "    for line in fr.readlines():\n",
    "        lineArr =[]\n",
    "        #以制表符分割\n",
    "        curLine = line.strip().split('\\t')\n",
    "        #遍历每个特征\n",
    "        for i in range(numFeat-1):\n",
    "            lineArr.append(float(curLine[i]))\n",
    "        dataMat.append(lineArr)\n",
    "        #最后一项是标签，添加到标签矩阵中\n",
    "        labelMat.append(float(curLine[-1]))\n",
    "    return dataMat,labelMat"
   ]
  },
  {
   "cell_type": "code",
   "execution_count": 14,
   "metadata": {},
   "outputs": [
    {
     "name": "stdout",
     "output_type": "stream",
     "text": [
      "total error:  0.2842809364548495\n",
      "total error:  0.2842809364548495\n",
      "total error:  0.24749163879598662\n",
      "total error:  0.24749163879598662\n",
      "total error:  0.25418060200668896\n",
      "total error:  0.2408026755852843\n",
      "total error:  0.2408026755852843\n",
      "total error:  0.22073578595317725\n",
      "total error:  0.24749163879598662\n",
      "total error:  0.23076923076923078\n"
     ]
    }
   ],
   "source": [
    "datArr, labelArr = loadDataSet(\"horseColicTraining2.txt\")\n",
    "classifierArray,_ = adaBoostTrainDS(datArr, labelArr, 10)"
   ]
  },
  {
   "cell_type": "code",
   "execution_count": 15,
   "metadata": {},
   "outputs": [
    {
     "name": "stdout",
     "output_type": "stream",
     "text": [
      "错误率 = 23.88%\n"
     ]
    }
   ],
   "source": [
    "testArr, testLabelArr = loadDataSet(\"horseColicTest2.txt\")\n",
    "prediction10 = adaClassify(testArr, classifierArray)\n",
    "errArr = mat(ones((67, 1)))\n",
    "errRate = errArr[prediction10 != mat(testLabelArr).T].sum() / 67 * 100\n",
    "print(f\"错误率 = {errRate:2.2f}%\")"
   ]
  },
  {
   "cell_type": "markdown",
   "metadata": {
    "collapsed": true
   },
   "source": [
    "使用50个弱分类器"
   ]
  },
  {
   "cell_type": "code",
   "execution_count": 19,
   "metadata": {},
   "outputs": [
    {
     "name": "stdout",
     "output_type": "stream",
     "text": [
      "total error:  0.2842809364548495\n",
      "total error:  0.2842809364548495\n",
      "total error:  0.24749163879598662\n",
      "total error:  0.24749163879598662\n",
      "total error:  0.25418060200668896\n",
      "total error:  0.2408026755852843\n",
      "total error:  0.2408026755852843\n",
      "total error:  0.22073578595317725\n",
      "total error:  0.24749163879598662\n",
      "total error:  0.23076923076923078\n",
      "total error:  0.2408026755852843\n",
      "total error:  0.2140468227424749\n",
      "total error:  0.22742474916387959\n",
      "total error:  0.21739130434782608\n",
      "total error:  0.22073578595317725\n",
      "total error:  0.21739130434782608\n",
      "total error:  0.22408026755852842\n",
      "total error:  0.22408026755852842\n",
      "total error:  0.23076923076923078\n",
      "total error:  0.22408026755852842\n",
      "total error:  0.2140468227424749\n",
      "total error:  0.20735785953177258\n",
      "total error:  0.22408026755852842\n",
      "total error:  0.22408026755852842\n",
      "total error:  0.2140468227424749\n",
      "total error:  0.22073578595317725\n",
      "total error:  0.2040133779264214\n",
      "total error:  0.20735785953177258\n",
      "total error:  0.21070234113712374\n",
      "total error:  0.21739130434782608\n",
      "total error:  0.21070234113712374\n",
      "total error:  0.21739130434782608\n",
      "total error:  0.20735785953177258\n",
      "total error:  0.21070234113712374\n",
      "total error:  0.20735785953177258\n",
      "total error:  0.20735785953177258\n",
      "total error:  0.19732441471571907\n",
      "total error:  0.19063545150501673\n",
      "total error:  0.20066889632107024\n",
      "total error:  0.19732441471571907\n",
      "total error:  0.20066889632107024\n",
      "total error:  0.1939799331103679\n",
      "total error:  0.1939799331103679\n",
      "total error:  0.19063545150501673\n",
      "total error:  0.18729096989966554\n",
      "total error:  0.19063545150501673\n",
      "total error:  0.19063545150501673\n",
      "total error:  0.18729096989966554\n",
      "total error:  0.1939799331103679\n",
      "total error:  0.18729096989966554\n"
     ]
    }
   ],
   "source": [
    "classifierArray, aggClassEst = adaBoostTrainDS(datArr, labelArr, 50)"
   ]
  },
  {
   "cell_type": "code",
   "execution_count": 17,
   "metadata": {},
   "outputs": [
    {
     "name": "stdout",
     "output_type": "stream",
     "text": [
      "错误率 = 20.90%\n"
     ]
    }
   ],
   "source": [
    "testArr, testLabelArr = loadDataSet(\"horseColicTest2.txt\")\n",
    "prediction10 = adaClassify(testArr, classifierArray)\n",
    "errArr = mat(ones((67, 1)))\n",
    "errRate = errArr[prediction10 != mat(testLabelArr).T].sum() / 67 * 100\n",
    "print(f\"错误率 = {errRate:2.2f}%\")"
   ]
  },
  {
   "cell_type": "code",
   "execution_count": 22,
   "metadata": {},
   "outputs": [
    {
     "name": "stdout",
     "output_type": "stream",
     "text": [
      "the Area Under the Curve is:  0.8953941870182941\n"
     ]
    },
    {
     "data": {
      "image/png": "[encoded data removed]",
      "text/plain": [
       "<Figure size 432x288 with 1 Axes>"
      ]
     },
     "metadata": {
      "needs_background": "light"
     },
     "output_type": "display_data"
    }
   ],
   "source": [
    "plotROC(aggClassEst.T, labelArr)"
   ]
  },
  {
   "cell_type": "code",
   "execution_count": null,
   "metadata": {},
   "outputs": [],
   "source": []
  }
 ],
 "metadata": {
  "kernelspec": {
   "display_name": "Python 3",
   "language": "python",
   "name": "python3"
  },
  "language_info": {
   "codemirror_mode": {
    "name": "ipython",
    "version": 3
   },
   "file_extension": ".py",
   "mimetype": "text/x-python",
   "name": "python",
   "nbconvert_exporter": "python",
   "pygments_lexer": "ipython3",
   "version": "3.7.0"
  }
 },
 "nbformat": 4,
 "nbformat_minor": 2
}
